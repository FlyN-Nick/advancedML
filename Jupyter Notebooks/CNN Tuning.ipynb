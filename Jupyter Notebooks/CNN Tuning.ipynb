{
 "cells": [
  {
   "cell_type": "code",
   "execution_count": 257,
   "metadata": {},
   "outputs": [],
   "source": [
    "# allow matplotlib graphics to display in the notebook\n",
    "%matplotlib inline\n",
    "import matplotlib.pyplot\n",
    "\n",
    "# for image dimension manipulation\n",
    "import numpy\n",
    "\n",
    "# import validation methods from scikit-learn\n",
    "from sklearn.metrics import precision_recall_fscore_support, accuracy_score\n",
    "\n",
    "# import the dataset and neural network layers from keras\n",
    "from keras.datasets import mnist\n",
    "from keras.models import Sequential, Model\n",
    "from keras.layers.convolutional import Conv2D\n",
    "from keras.layers import Dense, Flatten, Dropout, MaxPooling2D\n",
    "\n",
    "from keras.layers import Activation\n",
    "from keras.optimizers import SGD, Adam\n",
    "from keras.utils import to_categorical"
   ]
  },
  {
   "cell_type": "code",
   "execution_count": 258,
   "metadata": {},
   "outputs": [],
   "source": [
    "# \"MNIST is a famous dataset of images of handwritten numbers.\"\n",
    "\n",
    "# constants to describe the MNIST images\n",
    "NUM_ROWS = 28 \n",
    "NUM_COLUMNS = 28\n",
    "NUM_COLORS = 1 # grayscale\n",
    "IMG_SHAPE = (NUM_ROWS, NUM_COLUMNS, NUM_COLORS)\n",
    "\n",
    "# constant to describe the MNIST output labels\n",
    "# there are ten different numbers, 0-9\n",
    "NUM_CLASSES = 10"
   ]
  },
  {
   "cell_type": "code",
   "execution_count": 259,
   "metadata": {},
   "outputs": [],
   "source": [
    "# load the data\n",
    "((images_train, labels_train), (images_test, labels_test)) = mnist.load_data()"
   ]
  },
  {
   "cell_type": "code",
   "execution_count": 260,
   "metadata": {},
   "outputs": [
    {
     "data": {
      "text/plain": "<matplotlib.image.AxesImage at 0x14ae2eca0>"
     },
     "execution_count": 260,
     "metadata": {},
     "output_type": "execute_result"
    },
    {
     "data": {
      "image/png": "[encoded data removed]",
      "text/plain": "<Figure size 432x288 with 1 Axes>"
     },
     "metadata": {
      "needs_background": "light"
     },
     "output_type": "display_data"
    }
   ],
   "source": [
    "# show a particular image\n",
    "matplotlib.pyplot.imshow(images_train[16], cmap='winter_r')"
   ]
  },
  {
   "cell_type": "code",
   "execution_count": 261,
   "metadata": {},
   "outputs": [
    {
     "data": {
      "text/plain": "2"
     },
     "execution_count": 261,
     "metadata": {},
     "output_type": "execute_result"
    }
   ],
   "source": [
    "labels_train[16]"
   ]
  },
  {
   "cell_type": "code",
   "execution_count": 262,
   "metadata": {},
   "outputs": [],
   "source": [
    "# CREATING MODEL\n",
    "\n",
    "model = Sequential()\n",
    "\n",
    "# add convolutional layers\n",
    "model.add(Conv2D(input_shape=IMG_SHAPE,\n",
    "                 filters=8, kernel_size=3, strides=2, padding='same'))\n",
    "model.add(Conv2D(filters=8, kernel_size=3, strides=2, padding='same'))\n",
    "\n",
    "# dense layers to consolidate information\n",
    "model.add(Flatten())\n",
    "model.add(Dense(units=8, activation='tanh'))\n",
    "\n",
    "# output layer to make the final decision on which number it is\n",
    "model.add(Dense(units=NUM_CLASSES, activation='softmax'))"
   ]
  },
  {
   "cell_type": "code",
   "execution_count": 263,
   "metadata": {},
   "outputs": [
    {
     "name": "stdout",
     "output_type": "stream",
     "text": [
      "Epoch 1/2\n",
      "1875/1875 [==============================] - 6s 3ms/step - loss: 1.7148\n",
      "Epoch 2/2\n",
      "1875/1875 [==============================] - 6s 3ms/step - loss: 1.2790\n"
     ]
    },
    {
     "data": {
      "text/plain": "<tensorflow.python.keras.callbacks.History at 0x14af34e80>"
     },
     "execution_count": 263,
     "metadata": {},
     "output_type": "execute_result"
    }
   ],
   "source": [
    "# TRAINING MODEL\n",
    "\n",
    "# keras requires a color dimension, so we need to expand each image to have one\n",
    "images_3d_train = numpy.expand_dims(images_train, axis=3)\n",
    "\n",
    "# the labels need to be one-hot encoded, to match the ten outputs of our model\n",
    "labels_onehot_train = to_categorical(labels_train)\n",
    "\n",
    "# set up the model to be ready for training\n",
    "model.compile(optimizer=SGD(), loss='categorical_crossentropy')\n",
    "\n",
    "# fit the model to the training data\n",
    "model.fit(images_3d_train, labels_onehot_train, epochs=2)"
   ]
  },
  {
   "cell_type": "code",
   "execution_count": 264,
   "metadata": {},
   "outputs": [],
   "source": [
    "# VALIDATION W/ TEST SET\n",
    "\n",
    "# same reason as previous cell\n",
    "images_3d_test = numpy.expand_dims(images_test, axis=3)\n",
    "\n",
    "# get the predictions from the model (get the probability of each number for each image)\n",
    "predictions_test_onehot = model.predict(images_3d_test)\n",
    "\n",
    "# get the index that has the highest probability (what we actually care about)\n",
    "# the index just happens to be the same as the number\n",
    "predictions_test = numpy.argmax(predictions_test_onehot, axis=1)\n",
    "\n",
    "# this will be used to check for overfitting\n",
    "predictions_training_onehot = model.predict(images_3d_train)\n",
    "predictions_training = numpy.argmax(predictions_training_onehot, axis=1)"
   ]
  },
  {
   "cell_type": "code",
   "execution_count": 265,
   "metadata": {},
   "outputs": [
    {
     "name": "stdout",
     "output_type": "stream",
     "text": [
      "test accuracy: 0.6253\n",
      "training accuracy: 0.6143833333333333\n"
     ]
    }
   ],
   "source": [
    "# get accuracy\n",
    "print(f\"test accuracy: {accuracy_score(y_true=labels_test, y_pred=predictions_test)}\")\n",
    "print(f\"training accuracy: {accuracy_score(y_true=labels_train, y_pred=predictions_training)}\")"
   ]
  },
  {
   "cell_type": "code",
   "execution_count": 266,
   "metadata": {},
   "outputs": [
    {
     "name": "stdout",
     "output_type": "stream",
     "text": [
      "precision: [0.79623824 0.49673531 0.85884692 0.71377672 0.69402229 0.4691358\n",
      " 0.85254989 0.68495182 0.42251223 0.44386423]\n",
      "recall: [0.77755102 0.87136564 0.41860465 0.5950495  0.69755601 0.17040359\n",
      " 0.80271399 0.89883268 0.26591376 0.67393459]\n",
      "f score: [0.78678369 0.63275752 0.56286645 0.64902808 0.69578466 0.25\n",
      " 0.82688172 0.77745057 0.32640202 0.53522235]\n",
      "num examples of each num: [ 980 1135 1032 1010  982  892  958 1028  974 1009]\n"
     ]
    }
   ],
   "source": [
    "# get precision, recall, f-score, and number of examples of each digit\n",
    "(precision, recall, f_score, num_examples) = precision_recall_fscore_support(y_true=labels_test, y_pred=predictions_test)\n",
    "print(f\"precision: {precision}\")\n",
    "print(f\"recall: {recall}\")\n",
    "print(f\"f score: {f_score}\")\n",
    "print(f\"num examples of each num: {num_examples}\")"
   ]
  },
  {
   "cell_type": "markdown",
   "metadata": {},
   "source": [
    "## Exercise: Tuning the model to produce better results.\n",
    "\n",
    "I was able to increase accuracy from 0.6253 to 0.7927 by adding a dropout layer, changing the number of filters from 8 to 12, and using Adam as the optimizer instead of SGD.\n",
    "\n",
    "Generally, adding additional conv layers made the model perform worse."
   ]
  },
  {
   "cell_type": "code",
   "execution_count": 267,
   "metadata": {},
   "outputs": [],
   "source": [
    "# CREATING NEW MODEL\n",
    "\n",
    "new_model = Sequential()\n",
    "\n",
    "# add convolutional layers\n",
    "new_model.add(Conv2D(input_shape=IMG_SHAPE,\n",
    "                 filters=12, kernel_size=3, strides=2, padding='same')) # 12 filters instead of 8\n",
    "model.add(Dropout(0.15)) # added dropout layer\n",
    "new_model.add(Conv2D(filters=12, kernel_size=3, strides=2, padding='same'))\n",
    "\n",
    "# adding additional layers made the model perform worse\n",
    "# new_model.add(Conv2D(filters=12, kernel_size=3, strides=2, padding='same'))\n",
    "\n",
    "# dense layers to consolidate information\n",
    "new_model.add(Flatten())\n",
    "new_model.add(Dense(units=12, activation='tanh'))\n",
    "\n",
    "# output layer to make the final decision on which number it is\n",
    "new_model.add(Dense(units=NUM_CLASSES, activation='softmax'))"
   ]
  },
  {
   "cell_type": "code",
   "execution_count": 268,
   "metadata": {},
   "outputs": [
    {
     "name": "stdout",
     "output_type": "stream",
     "text": [
      "Epoch 1/2\n",
      "1875/1875 [==============================] - 7s 4ms/step - loss: 1.1978\n",
      "Epoch 2/2\n",
      "1875/1875 [==============================] - 7s 4ms/step - loss: 0.7290\n"
     ]
    },
    {
     "data": {
      "text/plain": "<tensorflow.python.keras.callbacks.History at 0x14b1c46d0>"
     },
     "execution_count": 268,
     "metadata": {},
     "output_type": "execute_result"
    }
   ],
   "source": [
    "# TRAINING NEW MODEL\n",
    "\n",
    "# set up the new model to be ready for training\n",
    "new_model.compile(optimizer=Adam(), loss='categorical_crossentropy')\n",
    "\n",
    "# fit the new model to the training data\n",
    "new_model.fit(images_3d_train, labels_onehot_train, epochs=2)"
   ]
  },
  {
   "cell_type": "code",
   "execution_count": 269,
   "metadata": {},
   "outputs": [],
   "source": [
    "# VALIDATION OF NEW MODEL W/ TEST SET\n",
    "\n",
    "# get the predictions from the model (get the probability of each number for each image)\n",
    "new_predictions_test_onehot = new_model.predict(images_3d_test)\n",
    "\n",
    "# get the index that has the highest probability (what we actually care about)\n",
    "# the index just happens to be the same as the number\n",
    "new_predictions_test = numpy.argmax(new_predictions_test_onehot, axis=1)\n",
    "\n",
    "# this will be used to check for overfitting\n",
    "new_predictions_training_onehot = new_model.predict(images_3d_train)\n",
    "new_predictions_training = numpy.argmax(new_predictions_training_onehot, axis=1)"
   ]
  },
  {
   "cell_type": "code",
   "execution_count": 270,
   "metadata": {},
   "outputs": [
    {
     "name": "stdout",
     "output_type": "stream",
     "text": [
      "test accuracy: 0.7927\n",
      "training accuracy: 0.7901666666666667\n",
      "precision: [0.79623824 0.49673531 0.85884692 0.71377672 0.69402229 0.4691358\n",
      " 0.85254989 0.68495182 0.42251223 0.44386423]\n",
      "recall: [0.77755102 0.87136564 0.41860465 0.5950495  0.69755601 0.17040359\n",
      " 0.80271399 0.89883268 0.26591376 0.67393459]\n",
      "f score: [0.78678369 0.63275752 0.56286645 0.64902808 0.69578466 0.25\n",
      " 0.82688172 0.77745057 0.32640202 0.53522235]\n",
      "num examples of each num: [ 980 1135 1032 1010  982  892  958 1028  974 1009]\n"
     ]
    }
   ],
   "source": [
    "# get accuracy\n",
    "print(f\"test accuracy: {accuracy_score(y_true=labels_test, y_pred=new_predictions_test)}\")\n",
    "print(f\"training accuracy: {accuracy_score(y_true=labels_train, y_pred=new_predictions_training)}\")\n",
    "\n",
    "# get precision, recall, f-score, and number of examples of each digit\n",
    "(new_precision, new_recall, new_f_score, new_num_examples) = precision_recall_fscore_support(y_true=labels_test, y_pred=predictions_test)\n",
    "print(f\"precision: {new_precision}\")\n",
    "print(f\"recall: {new_recall}\")\n",
    "print(f\"f score: {new_f_score}\")\n",
    "print(f\"num examples of each num: {new_num_examples}\")"
   ]
  }
 ],
 "metadata": {
  "kernelspec": {
   "display_name": "Python 3",
   "language": "python",
   "name": "python3"
  },
  "language_info": {
   "codemirror_mode": {
    "name": "ipython",
    "version": 3
   },
   "file_extension": ".py",
   "mimetype": "text/x-python",
   "name": "python",
   "nbconvert_exporter": "python",
   "pygments_lexer": "ipython3",
   "version": "3.8.5"
  }
 },
 "nbformat": 4,
 "nbformat_minor": 2
}