{
  "nbformat": 4,
  "nbformat_minor": 0,
  "metadata": {
    "kernelspec": {
      "name": "python3",
      "display_name": "Python 3"
    },
    "language_info": {
      "codemirror_mode": {
        "name": "ipython",
        "version": 3
      },
      "file_extension": ".py",
      "mimetype": "text/x-python",
      "name": "python",
      "nbconvert_exporter": "python",
      "pygments_lexer": "ipython3",
      "version": "3.7.6"
    },
    "colab": {
      "name": "WordVectorsTuning.ipynb",
      "provenance": [],
      "collapsed_sections": []
    },
    "accelerator": "GPU"
  },
  "cells": [
    {
      "cell_type": "markdown",
      "metadata": {
        "id": "6z77Evxmaoby"
      },
      "source": [
        "# Instructions\n",
        "1. Go to https://colab.research.google.com and choose the \\\"Upload\\\" option to upload this notebook file.\n",
        "1. In the Edit menu, choose \\\"Notebook Settings\\\" and then set the \\\"Hardware Accelerator\\\" dropdown to GPU.\n",
        "1. Read through the code in the following sections:\n",
        "  * [IMDB Dataset](#scrollTo=NPa7eLiaaof0)\n",
        "  * [Define Model](#scrollTo=ihsQ5xEoaog6)\n",
        "  * [Train Model](#scrollTo=OlXYR7KNaohE)\n",
        "  * [Assess Model](#scrollTo=LkS3AAQraohK)\n",
        "1. Complete at least one of these exercises. Remember to keep notes about what you do!\n",
        "  * [Exercise Option #1 - Standard Difficulty](#scrollTo=VU4-GCUxaohS)\n",
        "  * [Exercise Option #2 - Advanced Difficulty](#scrollTo=VU4-GCUxaohS)"
      ]
    },
    {
      "cell_type": "markdown",
      "metadata": {
        "id": "fCSZ2tLNaocV"
      },
      "source": [
        "## Documentation/Sources\n",
        "* [https://radimrehurek.com/gensim/models/word2vec.html](https://radimrehurek.com/gensim/models/word2vec.html) for more information about how to use gensim word2vec in general\n",
        "* _Blog post has been removed_ [https://codekansas.github.io/blog/2016/gensim.html](https://codekansas.github.io/blog/2016/gensim.html) for information about using it to create embedding layers for neural networks.\n",
        "* [https://machinelearningmastery.com/sequence-classification-lstm-recurrent-neural-networks-python-keras/](https://machinelearningmastery.com/sequence-classification-lstm-recurrent-neural-networks-python-keras/) for information on sequence classification with keras\n",
        "* [https://blog.keras.io/using-pre-trained-word-embeddings-in-a-keras-model.html](https://blog.keras.io/using-pre-trained-word-embeddings-in-a-keras-model.html) for using pre-trained embeddings with keras (though the syntax they use for the model layers is different than most other tutorials).\n",
        "* [https://keras.io/](https://keras.io/) Keras API documentation"
      ]
    },
    {
      "cell_type": "code",
      "metadata": {
        "id": "sSArlh7obXaG"
      },
      "source": [
        "# upgrade tensorflow to tensorflow 2\n",
        "%tensorflow_version 2.x\n",
        "# display matplotlib plots\n",
        "%matplotlib inline"
      ],
      "execution_count": 5,
      "outputs": []
    },
    {
      "cell_type": "markdown",
      "metadata": {
        "id": "NPa7eLiaaof0"
      },
      "source": [
        "# IMDB Dataset\n",
        "The [IMDB dataset](https://keras.io/datasets/#imdb-movie-reviews-sentiment-classification) consists of movie reviews that have been marked as positive or negative. (There is also a built-in dataset of [Reuters newswires](https://keras.io/datasets/#reuters-newswire-topics-classification) that have been classified by topic.)"
      ]
    },
    {
      "cell_type": "code",
      "metadata": {
        "id": "aQR2EqyHaof1",
        "colab": {
          "base_uri": "https://localhost:8080/"
        },
        "outputId": "b872c90a-1db4-4fde-cbea-dfab480140fe"
      },
      "source": [
        "from keras.datasets import imdb\n",
        "(x_train, y_train), (x_test, y_test) = imdb.load_data()"
      ],
      "execution_count": 6,
      "outputs": [
        {
          "output_type": "stream",
          "text": [
            "Downloading data from https://storage.googleapis.com/tensorflow/tf-keras-datasets/imdb.npz\n",
            "17465344/17464789 [==============================] - 0s 0us/step\n"
          ],
          "name": "stdout"
        },
        {
          "output_type": "stream",
          "text": [
            "<string>:6: VisibleDeprecationWarning: Creating an ndarray from ragged nested sequences (which is a list-or-tuple of lists-or-tuples-or ndarrays with different lengths or shapes) is deprecated. If you meant to do this, you must specify 'dtype=object' when creating the ndarray\n",
            "/usr/local/lib/python3.7/dist-packages/tensorflow/python/keras/datasets/imdb.py:159: VisibleDeprecationWarning: Creating an ndarray from ragged nested sequences (which is a list-or-tuple of lists-or-tuples-or ndarrays with different lengths or shapes) is deprecated. If you meant to do this, you must specify 'dtype=object' when creating the ndarray\n",
            "  x_train, y_train = np.array(xs[:idx]), np.array(labels[:idx])\n",
            "/usr/local/lib/python3.7/dist-packages/tensorflow/python/keras/datasets/imdb.py:160: VisibleDeprecationWarning: Creating an ndarray from ragged nested sequences (which is a list-or-tuple of lists-or-tuples-or ndarrays with different lengths or shapes) is deprecated. If you meant to do this, you must specify 'dtype=object' when creating the ndarray\n",
            "  x_test, y_test = np.array(xs[idx:]), np.array(labels[idx:])\n"
          ],
          "name": "stderr"
        }
      ]
    },
    {
      "cell_type": "markdown",
      "metadata": {
        "id": "IMyq3IcQaof-"
      },
      "source": [
        "It looks like our labels consist of 0 or 1, which makes sense for positive and negative."
      ]
    },
    {
      "cell_type": "code",
      "metadata": {
        "id": "2JxnVYvqaogF",
        "colab": {
          "base_uri": "https://localhost:8080/"
        },
        "outputId": "b542cef0-ef2c-4d92-d3a2-15bd01bc0135"
      },
      "source": [
        "print(y_train[0:9])\n",
        "print(max(y_train))\n",
        "print(min(y_train))"
      ],
      "execution_count": 7,
      "outputs": [
        {
          "output_type": "stream",
          "text": [
            "[1 0 0 1 0 0 1 0 1]\n",
            "1\n",
            "0\n"
          ],
          "name": "stdout"
        }
      ]
    },
    {
      "cell_type": "markdown",
      "metadata": {
        "id": "2mr-2B8BaogJ"
      },
      "source": [
        "But x is a bit more trouble. The words have already been converted to numbers -- numbers that have nothing to do with the word embeddings we spent time learning!"
      ]
    },
    {
      "cell_type": "code",
      "metadata": {
        "id": "w9aIWApiaogL",
        "colab": {
          "base_uri": "https://localhost:8080/"
        },
        "outputId": "e3212fb5-b0ed-45c0-c451-5aae4f58f8af"
      },
      "source": [
        "x_train[0]"
      ],
      "execution_count": 8,
      "outputs": [
        {
          "output_type": "execute_result",
          "data": {
            "text/plain": [
              "[1,\n",
              " 14,\n",
              " 22,\n",
              " 16,\n",
              " 43,\n",
              " 530,\n",
              " 973,\n",
              " 1622,\n",
              " 1385,\n",
              " 65,\n",
              " 458,\n",
              " 4468,\n",
              " 66,\n",
              " 3941,\n",
              " 4,\n",
              " 173,\n",
              " 36,\n",
              " 256,\n",
              " 5,\n",
              " 25,\n",
              " 100,\n",
              " 43,\n",
              " 838,\n",
              " 112,\n",
              " 50,\n",
              " 670,\n",
              " 22665,\n",
              " 9,\n",
              " 35,\n",
              " 480,\n",
              " 284,\n",
              " 5,\n",
              " 150,\n",
              " 4,\n",
              " 172,\n",
              " 112,\n",
              " 167,\n",
              " 21631,\n",
              " 336,\n",
              " 385,\n",
              " 39,\n",
              " 4,\n",
              " 172,\n",
              " 4536,\n",
              " 1111,\n",
              " 17,\n",
              " 546,\n",
              " 38,\n",
              " 13,\n",
              " 447,\n",
              " 4,\n",
              " 192,\n",
              " 50,\n",
              " 16,\n",
              " 6,\n",
              " 147,\n",
              " 2025,\n",
              " 19,\n",
              " 14,\n",
              " 22,\n",
              " 4,\n",
              " 1920,\n",
              " 4613,\n",
              " 469,\n",
              " 4,\n",
              " 22,\n",
              " 71,\n",
              " 87,\n",
              " 12,\n",
              " 16,\n",
              " 43,\n",
              " 530,\n",
              " 38,\n",
              " 76,\n",
              " 15,\n",
              " 13,\n",
              " 1247,\n",
              " 4,\n",
              " 22,\n",
              " 17,\n",
              " 515,\n",
              " 17,\n",
              " 12,\n",
              " 16,\n",
              " 626,\n",
              " 18,\n",
              " 19193,\n",
              " 5,\n",
              " 62,\n",
              " 386,\n",
              " 12,\n",
              " 8,\n",
              " 316,\n",
              " 8,\n",
              " 106,\n",
              " 5,\n",
              " 4,\n",
              " 2223,\n",
              " 5244,\n",
              " 16,\n",
              " 480,\n",
              " 66,\n",
              " 3785,\n",
              " 33,\n",
              " 4,\n",
              " 130,\n",
              " 12,\n",
              " 16,\n",
              " 38,\n",
              " 619,\n",
              " 5,\n",
              " 25,\n",
              " 124,\n",
              " 51,\n",
              " 36,\n",
              " 135,\n",
              " 48,\n",
              " 25,\n",
              " 1415,\n",
              " 33,\n",
              " 6,\n",
              " 22,\n",
              " 12,\n",
              " 215,\n",
              " 28,\n",
              " 77,\n",
              " 52,\n",
              " 5,\n",
              " 14,\n",
              " 407,\n",
              " 16,\n",
              " 82,\n",
              " 10311,\n",
              " 8,\n",
              " 4,\n",
              " 107,\n",
              " 117,\n",
              " 5952,\n",
              " 15,\n",
              " 256,\n",
              " 4,\n",
              " 31050,\n",
              " 7,\n",
              " 3766,\n",
              " 5,\n",
              " 723,\n",
              " 36,\n",
              " 71,\n",
              " 43,\n",
              " 530,\n",
              " 476,\n",
              " 26,\n",
              " 400,\n",
              " 317,\n",
              " 46,\n",
              " 7,\n",
              " 4,\n",
              " 12118,\n",
              " 1029,\n",
              " 13,\n",
              " 104,\n",
              " 88,\n",
              " 4,\n",
              " 381,\n",
              " 15,\n",
              " 297,\n",
              " 98,\n",
              " 32,\n",
              " 2071,\n",
              " 56,\n",
              " 26,\n",
              " 141,\n",
              " 6,\n",
              " 194,\n",
              " 7486,\n",
              " 18,\n",
              " 4,\n",
              " 226,\n",
              " 22,\n",
              " 21,\n",
              " 134,\n",
              " 476,\n",
              " 26,\n",
              " 480,\n",
              " 5,\n",
              " 144,\n",
              " 30,\n",
              " 5535,\n",
              " 18,\n",
              " 51,\n",
              " 36,\n",
              " 28,\n",
              " 224,\n",
              " 92,\n",
              " 25,\n",
              " 104,\n",
              " 4,\n",
              " 226,\n",
              " 65,\n",
              " 16,\n",
              " 38,\n",
              " 1334,\n",
              " 88,\n",
              " 12,\n",
              " 16,\n",
              " 283,\n",
              " 5,\n",
              " 16,\n",
              " 4472,\n",
              " 113,\n",
              " 103,\n",
              " 32,\n",
              " 15,\n",
              " 16,\n",
              " 5345,\n",
              " 19,\n",
              " 178,\n",
              " 32]"
            ]
          },
          "metadata": {
            "tags": []
          },
          "execution_count": 8
        }
      ]
    },
    {
      "cell_type": "markdown",
      "metadata": {
        "id": "r1K2hwGEaogR"
      },
      "source": [
        "Looking at the help page for imdb, it appears there is a way to get the word back. Phew."
      ]
    },
    {
      "cell_type": "code",
      "metadata": {
        "id": "-PQ0HAPWaogT",
        "colab": {
          "base_uri": "https://localhost:8080/"
        },
        "outputId": "2e358ba0-5e84-47a6-eae2-979ab32f8a4b"
      },
      "source": [
        "help(imdb)"
      ],
      "execution_count": 9,
      "outputs": [
        {
          "output_type": "stream",
          "text": [
            "Help on module keras.datasets.imdb in keras.datasets:\n",
            "\n",
            "NAME\n",
            "    keras.datasets.imdb - IMDB sentiment classification dataset.\n",
            "\n",
            "FILE\n",
            "    /usr/local/lib/python3.7/dist-packages/keras/datasets/imdb.py\n",
            "\n",
            "\n"
          ],
          "name": "stdout"
        }
      ]
    },
    {
      "cell_type": "code",
      "metadata": {
        "id": "ZUEWtPOUaogX",
        "colab": {
          "base_uri": "https://localhost:8080/"
        },
        "outputId": "8861a970-ed20-49d3-a266-ee705838cf1f"
      },
      "source": [
        "imdb_offset = 3\n",
        "imdb_map = dict((index + imdb_offset, word) for (word, index) in imdb.get_word_index().items())\n",
        "imdb_map[0] = 'PADDING'\n",
        "imdb_map[1] = 'START'\n",
        "imdb_map[2] = 'UNKNOWN'"
      ],
      "execution_count": 10,
      "outputs": [
        {
          "output_type": "stream",
          "text": [
            "Downloading data from https://storage.googleapis.com/tensorflow/tf-keras-datasets/imdb_word_index.json\n",
            "1646592/1641221 [==============================] - 0s 0us/step\n"
          ],
          "name": "stdout"
        }
      ]
    },
    {
      "cell_type": "markdown",
      "metadata": {
        "id": "6lw05emzaoga"
      },
      "source": [
        "The knowledge about the initial indices and offset came from [this stack overflow post](https://stackoverflow.com/questions/42821330/restore-original-text-from-keras-s-imdb-dataset) after I got gibberish when I tried to translate the first review, below. It looks coherent now!"
      ]
    },
    {
      "cell_type": "code",
      "metadata": {
        "id": "xhE_s9MEaogc",
        "colab": {
          "base_uri": "https://localhost:8080/",
          "height": 137
        },
        "outputId": "b0c979aa-69b6-42e4-b947-73f7a42f1782"
      },
      "source": [
        "' '.join([imdb_map[word_index] for word_index in x_train[0]])"
      ],
      "execution_count": 11,
      "outputs": [
        {
          "output_type": "execute_result",
          "data": {
            "application/vnd.google.colaboratory.intrinsic+json": {
              "type": "string"
            },
            "text/plain": [
              "\"START this film was just brilliant casting location scenery story direction everyone's really suited the part they played and you could just imagine being there robert redford's is an amazing actor and now the same being director norman's father came from the same scottish island as myself so i loved the fact there was a real connection with this film the witty remarks throughout the film were great it was just brilliant so much that i bought the film as soon as it was released for retail and would recommend it to everyone to watch and the fly fishing was amazing really cried at the end it was so sad and you know what they say if you cry at a film it must have been good and this definitely was also congratulations to the two little boy's that played the part's of norman and paul they were just brilliant children are often left out of the praising list i think because the stars that play them all grown up are such a big profile for the whole film but these children are amazing and should be praised for what they have done don't you think the whole story was so lovely because it was true and was someone's life after all that was shared with us all\""
            ]
          },
          "metadata": {
            "tags": []
          },
          "execution_count": 11
        }
      ]
    },
    {
      "cell_type": "markdown",
      "metadata": {
        "id": "MhVB73mBaogs"
      },
      "source": [
        "For this exercise, we're going to keep all inputs the same length (we'll see how to do variable-length later). This means we need to choose a maximum length for the review, cutting off longer ones and adding padding to shorter ones. What should we make the length? Let's understand our data."
      ]
    },
    {
      "cell_type": "code",
      "metadata": {
        "id": "lFpDGoqnaogt",
        "colab": {
          "base_uri": "https://localhost:8080/"
        },
        "outputId": "0ca8912c-bfd2-40a6-8d9f-bf1a7fc3aa04"
      },
      "source": [
        "lengths = [len(review) for review in x_train + x_test]\n",
        "print('Longest review: {} Shortest review: {}'.format(max(lengths), min(lengths)))\n"
      ],
      "execution_count": 12,
      "outputs": [
        {
          "output_type": "stream",
          "text": [
            "Longest review: 2697 Shortest review: 70\n"
          ],
          "name": "stdout"
        }
      ]
    },
    {
      "cell_type": "markdown",
      "metadata": {
        "id": "GcZ5Mlk3aogx"
      },
      "source": [
        "2697 words! Wow. Well, let's see how many reviews would get cut off at a particular cutoff."
      ]
    },
    {
      "cell_type": "code",
      "metadata": {
        "id": "MxU71oxpaogx",
        "colab": {
          "base_uri": "https://localhost:8080/"
        },
        "outputId": "f8956c06-f9cf-4ec0-a34f-234d1dcd5d74"
      },
      "source": [
        "cutoff = 500\n",
        "print('{} reviews out of {} are over {}.'.format(\n",
        "    sum([1 for length in lengths if length > cutoff]), \n",
        "    len(lengths), \n",
        "    cutoff))"
      ],
      "execution_count": 13,
      "outputs": [
        {
          "output_type": "stream",
          "text": [
            "8485 reviews out of 25000 are over 500.\n"
          ],
          "name": "stdout"
        }
      ]
    },
    {
      "cell_type": "code",
      "metadata": {
        "id": "F8f7lJnLaog1"
      },
      "source": [
        "from keras.preprocessing import sequence\n",
        "x_train_padded = sequence.pad_sequences(x_train, maxlen=cutoff)\n",
        "x_test_padded = sequence.pad_sequences(x_test, maxlen=cutoff)"
      ],
      "execution_count": 14,
      "outputs": []
    },
    {
      "cell_type": "markdown",
      "metadata": {
        "id": "ihsQ5xEoaog6"
      },
      "source": [
        "# Define Model"
      ]
    },
    {
      "cell_type": "code",
      "metadata": {
        "id": "D8gypoeaaog7"
      },
      "source": [
        "from tensorflow.keras.models import Sequential\n",
        "from tensorflow.keras.layers import Embedding, Conv1D, Dense, Flatten, Dropout\n",
        "from tensorflow import test\n",
        "from tensorflow import device"
      ],
      "execution_count": 16,
      "outputs": []
    },
    {
      "cell_type": "markdown",
      "metadata": {
        "id": "oHCuR7fcaog-"
      },
      "source": [
        "The embedding layer here learns the 100-dimensional vector embedding within the overall classification problem training. That is usually what we want, unless we have a bunch of un-tagged data that could be used to train word vectors but not a classification model."
      ]
    },
    {
      "cell_type": "code",
      "metadata": {
        "id": "jBqJ-tvhaohA"
      },
      "source": [
        "not_pretrained_model = Sequential()\n",
        "not_pretrained_model.add(Embedding(input_dim=len(imdb_map), output_dim=100, input_length=cutoff))\n",
        "not_pretrained_model.add(Conv1D(filters=32, kernel_size=5, activation='relu'))\n",
        "not_pretrained_model.add(Conv1D(filters=32, kernel_size=5, activation='relu'))\n",
        "not_pretrained_model.add(Conv1D(filters=32, kernel_size=5, activation='relu'))\n",
        "not_pretrained_model.add(Conv1D(filters=32, kernel_size=5, activation='relu'))\n",
        "not_pretrained_model.add(Conv1D(filters=32, kernel_size=5, activation='relu'))\n",
        "not_pretrained_model.add(Flatten())\n",
        "not_pretrained_model.add(Dense(units=128, activation='relu'))\n",
        "not_pretrained_model.add(Dense(units=1, activation='sigmoid')) # because at the end, we want one yes/no answer\n",
        "not_pretrained_model.compile(loss='binary_crossentropy', optimizer='adam', metrics=['binary_accuracy'])"
      ],
      "execution_count": 21,
      "outputs": []
    },
    {
      "cell_type": "markdown",
      "metadata": {
        "id": "OlXYR7KNaohE"
      },
      "source": [
        "# Train Model"
      ]
    },
    {
      "cell_type": "code",
      "metadata": {
        "id": "UiloJX2ZaohF",
        "colab": {
          "base_uri": "https://localhost:8080/"
        },
        "outputId": "8bb7a311-990b-44d5-f0ad-b20916a1fe1f"
      },
      "source": [
        "# Train using GPU acceleration\n",
        "# (see https://colab.research.google.com/notebooks/gpu.ipynb#scrollTo=Y04m-jvKRDsJ)\n",
        "device_name = test.gpu_device_name()\n",
        "if device_name != '/device:GPU:0':\n",
        "  print(\n",
        "      '\\n\\nThis error most likely means that this notebook is not '\n",
        "      'configured to use a GPU.  Change this in Notebook Settings via the '\n",
        "      'command palette (cmd/ctrl-shift-P) or the Edit menu.\\n\\n')\n",
        "  raise SystemError('GPU device not found')\n",
        "\n",
        "with device('/device:GPU:0'):\n",
        "  not_pretrained_model.fit(x_train_padded, y_train, epochs=1, batch_size=64)"
      ],
      "execution_count": 22,
      "outputs": [
        {
          "output_type": "stream",
          "text": [
            "391/391 [==============================] - 39s 97ms/step - loss: 0.5712 - binary_accuracy: 0.6333\n"
          ],
          "name": "stdout"
        }
      ]
    },
    {
      "cell_type": "markdown",
      "metadata": {
        "id": "LkS3AAQraohK"
      },
      "source": [
        "# Assess Model"
      ]
    },
    {
      "cell_type": "code",
      "metadata": {
        "id": "ESSw58cFaohM",
        "colab": {
          "base_uri": "https://localhost:8080/"
        },
        "outputId": "4a571bbc-26da-41d8-f9ec-d926303b7553"
      },
      "source": [
        "with device('/device:GPU:0'):\n",
        "  not_pretrained_scores = not_pretrained_model.evaluate(x_test_padded, y_test)\n",
        "print('loss: {} accuracy: {}'.format(*not_pretrained_scores))"
      ],
      "execution_count": 24,
      "outputs": [
        {
          "output_type": "stream",
          "text": [
            "782/782 [==============================] - 3s 4ms/step - loss: 0.3103 - binary_accuracy: 0.8700\n",
            "loss: 0.31027108430862427 accuracy: 0.8700399994850159\n"
          ],
          "name": "stdout"
        }
      ]
    },
    {
      "cell_type": "markdown",
      "metadata": {
        "id": "VU4-GCUxaohS"
      },
      "source": [
        "# Exercise Option #1 - Standard Difficulty\n",
        "Changing different hyperparameters of the model and observing how the performance changes."
      ]
    },
    {
      "cell_type": "code",
      "metadata": {
        "id": "1EigSVrxaohY"
      },
      "source": [
        "# So that I do not have to repeatedly write the same code\n",
        "def train_model(model):\n",
        "  device_name = test.gpu_device_name()\n",
        "  if device_name != '/device:GPU:0':\n",
        "    print(\n",
        "        '\\n\\nThis error most likely means that this notebook is not '\n",
        "        'configured to use a GPU.  Change this in Notebook Settings via the '\n",
        "        'command palette (cmd/ctrl-shift-P) or the Edit menu.\\n\\n')\n",
        "    raise SystemError('GPU device not found')\n",
        "\n",
        "  with device('/device:GPU:0'):\n",
        "    model.fit(x_train_padded, y_train, epochs=2, batch_size=64) # I have increased it to 2 epochs\n",
        "\n",
        "def evaluate_model(model):\n",
        "  with device('/device:GPU:0'):\n",
        "    model_scores = model.evaluate(x_test_padded, y_test)\n",
        "  print('loss: {} accuracy: {}'.format(*model_scores))"
      ],
      "execution_count": 3,
      "outputs": []
    },
    {
      "cell_type": "code",
      "metadata": {
        "id": "QFtsrlp6aohb"
      },
      "source": [
        "# no changes\n",
        "\n",
        "first_tuning = Sequential()\n",
        "first_tuning.add(Embedding(input_dim=len(imdb_map), output_dim=100, input_length=cutoff))\n",
        "first_tuning.add(Conv1D(filters=32, kernel_size=5, activation='relu'))\n",
        "first_tuning.add(Conv1D(filters=32, kernel_size=5, activation='relu'))\n",
        "first_tuning.add(Conv1D(filters=32, kernel_size=5, activation='relu'))\n",
        "first_tuning.add(Conv1D(filters=32, kernel_size=5, activation='relu'))\n",
        "first_tuning.add(Conv1D(filters=32, kernel_size=5, activation='relu'))\n",
        "first_tuning.add(Flatten())\n",
        "first_tuning.add(Dense(units=128, activation='relu'))\n",
        "first_tuning.add(Dense(units=1, activation='sigmoid')) # because at the end, we want one yes/no answer\n",
        "first_tuning.compile(loss='binary_crossentropy', optimizer='adam', metrics=['binary_accuracy'])"
      ],
      "execution_count": 43,
      "outputs": []
    },
    {
      "cell_type": "code",
      "metadata": {
        "id": "BvCgIqS7aohf",
        "colab": {
          "base_uri": "https://localhost:8080/"
        },
        "outputId": "ffc4ac5b-5410-4e75-885a-3e74e228fd6f"
      },
      "source": [
        "train_model(first_tuning)\n",
        "evaluate_model(first_tuning)"
      ],
      "execution_count": 44,
      "outputs": [
        {
          "output_type": "stream",
          "text": [
            "Epoch 1/2\n",
            "391/391 [==============================] - 38s 94ms/step - loss: 0.6806 - binary_accuracy: 0.5127\n",
            "Epoch 2/2\n",
            "391/391 [==============================] - 37s 94ms/step - loss: 0.2258 - binary_accuracy: 0.9115\n",
            "782/782 [==============================] - 3s 4ms/step - loss: 0.2953 - binary_accuracy: 0.8830\n",
            "loss: 0.2953038811683655 accuracy: 0.8830400109291077\n"
          ],
          "name": "stdout"
        }
      ]
    },
    {
      "cell_type": "code",
      "metadata": {
        "id": "nvo0B2Z2aohj"
      },
      "source": [
        "# one less conv layer\n",
        "\n",
        "second_tuning = Sequential()\n",
        "second_tuning.add(Embedding(input_dim=len(imdb_map), output_dim=100, input_length=cutoff))\n",
        "second_tuning.add(Conv1D(filters=32, kernel_size=5, activation='relu'))\n",
        "second_tuning.add(Conv1D(filters=32, kernel_size=5, activation='relu'))\n",
        "second_tuning.add(Conv1D(filters=32, kernel_size=5, activation='relu'))\n",
        "second_tuning.add(Conv1D(filters=32, kernel_size=5, activation='relu'))\n",
        "#second_tuning.add(Conv1D(filters=32, kernel_size=5, activation='relu')) # got rid of a conv layer\n",
        "second_tuning.add(Flatten())\n",
        "second_tuning.add(Dense(units=128, activation='relu'))\n",
        "second_tuning.add(Dense(units=1, activation='sigmoid')) # because at the end, we want one yes/no answer\n",
        "second_tuning.compile(loss='binary_crossentropy', optimizer='adam', metrics=['binary_accuracy'])"
      ],
      "execution_count": 25,
      "outputs": []
    },
    {
      "cell_type": "code",
      "metadata": {
        "id": "ukqX2slYaohn",
        "colab": {
          "base_uri": "https://localhost:8080/"
        },
        "outputId": "225e3fe6-22df-45a3-bd59-b3bfd3c1fc8b"
      },
      "source": [
        "train_model(second_tuning)\n",
        "evaluate_model(second_tuning)"
      ],
      "execution_count": 26,
      "outputs": [
        {
          "output_type": "stream",
          "text": [
            "Epoch 1/2\n",
            "391/391 [==============================] - 38s 96ms/step - loss: 0.6106 - binary_accuracy: 0.5931\n",
            "Epoch 2/2\n",
            "391/391 [==============================] - 37s 96ms/step - loss: 0.1527 - binary_accuracy: 0.9457\n",
            "782/782 [==============================] - 3s 4ms/step - loss: 0.2947 - binary_accuracy: 0.8822\n",
            "loss: 0.2946929931640625 accuracy: 0.8822399973869324\n"
          ],
          "name": "stdout"
        }
      ]
    },
    {
      "cell_type": "code",
      "metadata": {
        "id": "gRMvgUuLxlnJ"
      },
      "source": [
        "# one more conv layer\n",
        "\n",
        "third_tuning = Sequential()\n",
        "third_tuning.add(Embedding(input_dim=len(imdb_map), output_dim=100, input_length=cutoff))\n",
        "third_tuning.add(Conv1D(filters=32, kernel_size=5, activation='relu'))\n",
        "third_tuning.add(Conv1D(filters=32, kernel_size=5, activation='relu'))\n",
        "third_tuning.add(Conv1D(filters=32, kernel_size=5, activation='relu'))\n",
        "third_tuning.add(Conv1D(filters=32, kernel_size=5, activation='relu'))\n",
        "third_tuning.add(Conv1D(filters=32, kernel_size=5, activation='relu'))\n",
        "third_tuning.add(Conv1D(filters=32, kernel_size=5, activation='relu')) # added additional conv layer\n",
        "third_tuning.add(Flatten())\n",
        "third_tuning.add(Dense(units=128, activation='relu'))\n",
        "third_tuning.add(Dense(units=1, activation='sigmoid')) # because at the end, we want one yes/no answer\n",
        "third_tuning.compile(loss='binary_crossentropy', optimizer='adam', metrics=['binary_accuracy'])"
      ],
      "execution_count": 17,
      "outputs": []
    },
    {
      "cell_type": "code",
      "metadata": {
        "colab": {
          "base_uri": "https://localhost:8080/"
        },
        "id": "MHtl1TA-xl_G",
        "outputId": "3ce9de76-ca92-4573-f9a7-934283dcf088"
      },
      "source": [
        "train_model(third_tuning)\n",
        "evaluate_model(third_tuning)"
      ],
      "execution_count": 18,
      "outputs": [
        {
          "output_type": "stream",
          "text": [
            "Epoch 1/2\n",
            "391/391 [==============================] - 72s 98ms/step - loss: 0.5898 - binary_accuracy: 0.6102\n",
            "Epoch 2/2\n",
            "391/391 [==============================] - 38s 98ms/step - loss: 0.1528 - binary_accuracy: 0.9450\n",
            "782/782 [==============================] - 4s 4ms/step - loss: 0.3130 - binary_accuracy: 0.8768\n",
            "loss: 0.31300050020217896 accuracy: 0.876800000667572\n"
          ],
          "name": "stdout"
        }
      ]
    },
    {
      "cell_type": "code",
      "metadata": {
        "id": "NX8pU7LhJ9P4"
      },
      "source": [
        "# two more conv layers \n",
        "\n",
        "fourth_tuning = Sequential()\n",
        "fourth_tuning.add(Embedding(input_dim=len(imdb_map), output_dim=100, input_length=cutoff))\n",
        "fourth_tuning.add(Conv1D(filters=32, kernel_size=5, activation='relu'))\n",
        "fourth_tuning.add(Conv1D(filters=32, kernel_size=5, activation='relu'))\n",
        "fourth_tuning.add(Conv1D(filters=32, kernel_size=5, activation='relu'))\n",
        "fourth_tuning.add(Conv1D(filters=32, kernel_size=5, activation='relu'))\n",
        "fourth_tuning.add(Conv1D(filters=32, kernel_size=5, activation='relu'))\n",
        "fourth_tuning.add(Conv1D(filters=32, kernel_size=5, activation='relu')) # added additional conv layer\n",
        "fourth_tuning.add(Conv1D(filters=32, kernel_size=5, activation='relu')) # added additional conv layer\n",
        "fourth_tuning.add(Flatten())\n",
        "fourth_tuning.add(Dense(units=128, activation='relu'))\n",
        "fourth_tuning.add(Dense(units=1, activation='sigmoid')) # because at the end, we want one yes/no answer\n",
        "fourth_tuning.compile(loss='binary_crossentropy', optimizer='adam', metrics=['binary_accuracy'])"
      ],
      "execution_count": 29,
      "outputs": []
    },
    {
      "cell_type": "code",
      "metadata": {
        "colab": {
          "base_uri": "https://localhost:8080/"
        },
        "id": "cky440MkKUrY",
        "outputId": "68e0d11f-3e76-4026-bf82-3008cc8d9c94"
      },
      "source": [
        "train_model(fourth_tuning)\n",
        "evaluate_model(fourth_tuning)"
      ],
      "execution_count": 30,
      "outputs": [
        {
          "output_type": "stream",
          "text": [
            "Epoch 1/2\n",
            "391/391 [==============================] - 39s 98ms/step - loss: 0.5613 - binary_accuracy: 0.6469\n",
            "Epoch 2/2\n",
            "391/391 [==============================] - 38s 98ms/step - loss: 0.1518 - binary_accuracy: 0.9475\n",
            "782/782 [==============================] - 3s 4ms/step - loss: 0.3225 - binary_accuracy: 0.8723\n",
            "loss: 0.32250797748565674 accuracy: 0.8723199963569641\n"
          ],
          "name": "stdout"
        }
      ]
    },
    {
      "cell_type": "code",
      "metadata": {
        "id": "WheAtzLHLEPl"
      },
      "source": [
        "# dropout layer + one more conv layer\n",
        "\n",
        "fifth_tuning = Sequential()\n",
        "fifth_tuning.add(Embedding(input_dim=len(imdb_map), output_dim=100, input_length=cutoff))\n",
        "fifth_tuning.add(Conv1D(filters=32, kernel_size=5, activation='relu'))\n",
        "fifth_tuning.add(Conv1D(filters=32, kernel_size=5, activation='relu'))\n",
        "fifth_tuning.add(Conv1D(filters=32, kernel_size=5, activation='relu'))\n",
        "fifth_tuning.add(Conv1D(filters=32, kernel_size=5, activation='relu'))\n",
        "fifth_tuning.add(Conv1D(filters=32, kernel_size=5, activation='relu'))\n",
        "fifth_tuning.add(Dropout(0.15)) # added dropout layer\n",
        "fifth_tuning.add(Conv1D(filters=32, kernel_size=5, activation='relu')) # added additional conv layer\n",
        "fifth_tuning.add(Flatten())\n",
        "fifth_tuning.add(Dense(units=128, activation='relu'))\n",
        "fifth_tuning.add(Dense(units=1, activation='sigmoid')) # because at the end, we want one yes/no answer\n",
        "fifth_tuning.compile(loss='binary_crossentropy', optimizer='adam', metrics=['binary_accuracy'])"
      ],
      "execution_count": 39,
      "outputs": []
    },
    {
      "cell_type": "code",
      "metadata": {
        "colab": {
          "base_uri": "https://localhost:8080/"
        },
        "id": "35sRbIXkLKXN",
        "outputId": "863cd25c-b78a-4ac2-9fc8-ff1f5dde642a"
      },
      "source": [
        "train_model(fifth_tuning)\n",
        "evaluate_model(fifth_tuning)"
      ],
      "execution_count": 40,
      "outputs": [
        {
          "output_type": "stream",
          "text": [
            "Epoch 1/2\n",
            "391/391 [==============================] - 39s 99ms/step - loss: 0.6785 - binary_accuracy: 0.5191\n",
            "Epoch 2/2\n",
            "391/391 [==============================] - 38s 98ms/step - loss: 0.2377 - binary_accuracy: 0.9055\n",
            "782/782 [==============================] - 3s 4ms/step - loss: 0.3103 - binary_accuracy: 0.8720\n",
            "loss: 0.31033948063850403 accuracy: 0.871999979019165\n"
          ],
          "name": "stdout"
        }
      ]
    },
    {
      "cell_type": "code",
      "metadata": {
        "id": "XbBtcMsLM9nD"
      },
      "source": [
        "# dropout layer + two more conv layers\n",
        "\n",
        "sixth_tuning = Sequential()\n",
        "sixth_tuning.add(Embedding(input_dim=len(imdb_map), output_dim=100, input_length=cutoff))\n",
        "sixth_tuning.add(Conv1D(filters=32, kernel_size=5, activation='relu'))\n",
        "sixth_tuning.add(Conv1D(filters=32, kernel_size=5, activation='relu'))\n",
        "sixth_tuning.add(Conv1D(filters=32, kernel_size=5, activation='relu'))\n",
        "sixth_tuning.add(Conv1D(filters=32, kernel_size=5, activation='relu'))\n",
        "sixth_tuning.add(Conv1D(filters=32, kernel_size=5, activation='relu'))\n",
        "sixth_tuning.add(Dropout(0.15)) # added dropout layer\n",
        "sixth_tuning.add(Conv1D(filters=32, kernel_size=5, activation='relu')) # added additional conv layer\n",
        "sixth_tuning.add(Conv1D(filters=32, kernel_size=5, activation='relu')) # added additional conv layer\n",
        "sixth_tuning.add(Flatten())\n",
        "sixth_tuning.add(Dense(units=128, activation='relu'))\n",
        "sixth_tuning.add(Dense(units=1, activation='sigmoid')) # because at the end, we want one yes/no answer\n",
        "sixth_tuning.compile(loss='binary_crossentropy', optimizer='adam', metrics=['binary_accuracy'])"
      ],
      "execution_count": 41,
      "outputs": []
    },
    {
      "cell_type": "code",
      "metadata": {
        "colab": {
          "base_uri": "https://localhost:8080/"
        },
        "id": "snZRB_7YNGmR",
        "outputId": "380cfac9-bc64-4f18-c806-8454cc5be48c"
      },
      "source": [
        "train_model(sixth_tuning)\n",
        "evaluate_model(sixth_tuning)"
      ],
      "execution_count": 42,
      "outputs": [
        {
          "output_type": "stream",
          "text": [
            "Epoch 1/2\n",
            "391/391 [==============================] - 39s 98ms/step - loss: 0.6261 - binary_accuracy: 0.5732\n",
            "Epoch 2/2\n",
            "391/391 [==============================] - 38s 98ms/step - loss: 0.1831 - binary_accuracy: 0.9306\n",
            "782/782 [==============================] - 3s 4ms/step - loss: 0.3392 - binary_accuracy: 0.8707\n",
            "loss: 0.33917686343193054 accuracy: 0.8707200288772583\n"
          ],
          "name": "stdout"
        }
      ]
    },
    {
      "cell_type": "code",
      "metadata": {
        "id": "hm6kfVExgKuZ"
      },
      "source": [
        "# two dropout layers + two more conv layers\n",
        "\n",
        "seventh_tuning = Sequential()\n",
        "seventh_tuning.add(Embedding(input_dim=len(imdb_map), output_dim=100, input_length=cutoff))\n",
        "seventh_tuning.add(Conv1D(filters=32, kernel_size=5, activation='relu'))\n",
        "seventh_tuning.add(Conv1D(filters=32, kernel_size=5, activation='relu'))\n",
        "seventh_tuning.add(Conv1D(filters=32, kernel_size=5, activation='relu'))\n",
        "seventh_tuning.add(Conv1D(filters=32, kernel_size=5, activation='relu'))\n",
        "seventh_tuning.add(Conv1D(filters=32, kernel_size=5, activation='relu'))\n",
        "seventh_tuning.add(Dropout(0.15)) # added dropout layer\n",
        "seventh_tuning.add(Conv1D(filters=32, kernel_size=5, activation='relu')) # added additional conv layer\n",
        "seventh_tuning.add(Conv1D(filters=32, kernel_size=5, activation='relu')) # added additional conv layer\n",
        "seventh_tuning.add(Flatten())\n",
        "seventh_tuning.add(Dense(units=128, activation='relu'))\n",
        "seventh_tuning.add(Dense(units=1, activation='sigmoid')) # because at the end, we want one yes/no answer\n",
        "seventh_tuning.compile(loss='binary_crossentropy', optimizer='adam', metrics=['binary_accuracy'])"
      ],
      "execution_count": 19,
      "outputs": []
    },
    {
      "cell_type": "code",
      "metadata": {
        "colab": {
          "base_uri": "https://localhost:8080/"
        },
        "id": "fU7hlppIgK3p",
        "outputId": "e0bf120b-ab4a-4eaa-b364-ea8fb0c3758e"
      },
      "source": [
        "train_model(seventh_tuning)\n",
        "evaluate_model(seventh_tuning)"
      ],
      "execution_count": 20,
      "outputs": [
        {
          "output_type": "stream",
          "text": [
            "Epoch 1/2\n",
            "391/391 [==============================] - 40s 99ms/step - loss: 0.6144 - binary_accuracy: 0.5888\n",
            "Epoch 2/2\n",
            "391/391 [==============================] - 39s 100ms/step - loss: 0.1762 - binary_accuracy: 0.9341\n",
            "782/782 [==============================] - 3s 4ms/step - loss: 0.3072 - binary_accuracy: 0.8763\n",
            "loss: 0.30723750591278076 accuracy: 0.8763200044631958\n"
          ],
          "name": "stdout"
        }
      ]
    },
    {
      "cell_type": "code",
      "metadata": {
        "id": "S0F_DO5khoWT"
      },
      "source": [
        "# two less conv layer\n",
        "\n",
        "eigth_tuning = Sequential()\n",
        "eigth_tuning.add(Embedding(input_dim=len(imdb_map), output_dim=100, input_length=cutoff))\n",
        "eigth_tuning.add(Conv1D(filters=32, kernel_size=5, activation='relu'))\n",
        "eigth_tuning.add(Conv1D(filters=32, kernel_size=5, activation='relu'))\n",
        "eigth_tuning.add(Conv1D(filters=32, kernel_size=5, activation='relu'))\n",
        "#eigth_tuning.add(Conv1D(filters=32, kernel_size=5, activation='relu')) # got rid of a conv layer\n",
        "#eigth_tuning.add(Conv1D(filters=32, kernel_size=5, activation='relu')) # got rid of a conv layer\n",
        "eigth_tuning.add(Flatten())\n",
        "eigth_tuning.add(Dense(units=128, activation='relu'))\n",
        "eigth_tuning.add(Dense(units=1, activation='sigmoid')) # because at the end, we want one yes/no answer\n",
        "eigth_tuning.compile(loss='binary_crossentropy', optimizer='adam', metrics=['binary_accuracy'])"
      ],
      "execution_count": 25,
      "outputs": []
    },
    {
      "cell_type": "code",
      "metadata": {
        "colab": {
          "base_uri": "https://localhost:8080/"
        },
        "id": "togmkXf5hofo",
        "outputId": "4971bcc6-367d-40ba-a7de-bf5936745e88"
      },
      "source": [
        "train_model(eigth_tuning)\n",
        "evaluate_model(eigth_tuning)"
      ],
      "execution_count": 26,
      "outputs": [
        {
          "output_type": "stream",
          "text": [
            "Epoch 1/2\n",
            "391/391 [==============================] - 37s 94ms/step - loss: 0.5409 - binary_accuracy: 0.6702\n",
            "Epoch 2/2\n",
            "391/391 [==============================] - 36s 93ms/step - loss: 0.1246 - binary_accuracy: 0.9554\n",
            "782/782 [==============================] - 3s 4ms/step - loss: 0.3747 - binary_accuracy: 0.8634\n",
            "loss: 0.3746694028377533 accuracy: 0.8633999824523926\n"
          ],
          "name": "stdout"
        }
      ]
    }
  ]
}